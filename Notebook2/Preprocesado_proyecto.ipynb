{
  "nbformat": 4,
  "nbformat_minor": 0,
  "metadata": {
    "colab": {
      "provenance": []
    },
    "kernelspec": {
      "name": "python3",
      "display_name": "Python 3"
    },
    "language_info": {
      "name": "python"
    }
  },
  "cells": [
    {
      "cell_type": "code",
      "execution_count": 1,
      "metadata": {
        "colab": {
          "base_uri": "https://localhost:8080/"
        },
        "id": "er5wGVLvoyxC",
        "outputId": "76d8605b-76b1-49f5-b604-1e6f33d95041"
      },
      "outputs": [
        {
          "output_type": "stream",
          "name": "stderr",
          "text": [
            "[nltk_data] Downloading package stopwords to /root/nltk_data...\n",
            "[nltk_data]   Unzipping corpora/stopwords.zip.\n",
            "[nltk_data] Downloading package punkt to /root/nltk_data...\n",
            "[nltk_data]   Unzipping tokenizers/punkt.zip.\n",
            "[nltk_data] Downloading package wordnet to /root/nltk_data...\n"
          ]
        }
      ],
      "source": [
        "import nltk\n",
        "nltk.download('stopwords')\n",
        "nltk.download('punkt')\n",
        "nltk.download('wordnet')\n",
        "import pandas as pd\n",
        "import string\n",
        "import re\n",
        "import numpy as np\n",
        "from nltk.corpus import stopwords\n",
        "from nltk.tokenize import word_tokenize\n",
        "from nltk.stem import WordNetLemmatizer"
      ]
    },
    {
      "cell_type": "code",
      "source": [
        "# Lee un archivo CSV y carga los datos en un DataFrame\n",
        "df = pd.read_csv('df_vehicles.csv')\n",
        "print(df.head(3))\n",
        "\n",
        "# Distribución de reviews por número de estrellas\n",
        "conteos_valores = df['overall'].value_counts()\n",
        "print('\\n distribución de valores')\n",
        "print(conteos_valores)"
      ],
      "metadata": {
        "id": "2-NstCFYztlD",
        "colab": {
          "base_uri": "https://localhost:8080/"
        },
        "outputId": "24b5a6b0-2efd-40cc-e1f8-087972719a46"
      },
      "execution_count": 2,
      "outputs": [
        {
          "output_type": "stream",
          "name": "stdout",
          "text": [
            "                                    reviewText  overall\n",
            "0  all Chevy truck beds rust out. junk bodies.        0\n",
            "1                                         junk        0\n",
            "2                         Don't  Fit very good        0\n",
            "\n",
            " distribución de valores\n",
            "0    2298\n",
            "1    2298\n",
            "Name: overall, dtype: int64\n"
          ]
        }
      ]
    },
    {
      "cell_type": "markdown",
      "source": [],
      "metadata": {
        "id": "matGfU9ZgYr5"
      }
    },
    {
      "cell_type": "code",
      "source": [
        "# Pipeline para limpiar el texto en la columna reviewText\n",
        "def limpiar_texto(texto):\n",
        "\n",
        "    # Convertir a minúsculas\n",
        "    texto_limpio = texto.lower()\n",
        "\n",
        "    # Eliminar números\n",
        "    texto_limpio = re.sub(r'\\d+', '', texto_limpio)\n",
        "\n",
        "    # Eliminar signos de puntuación\n",
        "    texto_limpio = re.sub(r'[^\\w\\s]', '', texto_limpio)\n",
        "\n",
        "    # Tokenizar el texto en palabras\n",
        "    palabras = word_tokenize(texto_limpio)\n",
        "\n",
        "    # Eliminar stop words\n",
        "    stop_words = set(stopwords.words('english'))\n",
        "    palabras_filtradas = [palabra for palabra in palabras if palabra not in stop_words]\n",
        "\n",
        "    # Lematizar las palabras\n",
        "    lemmatizer = WordNetLemmatizer()\n",
        "    lematizadas = [lemmatizer.lemmatize(palabra) for palabra in palabras_filtradas]\n",
        "\n",
        "    # Unir las palabras\n",
        "    texto_limpio = ' '.join(lematizadas)\n",
        "\n",
        "    return texto_limpio\n",
        "\n",
        "# Aplicar la función de limpieza al DataFrame\n",
        "df['reviewText'] = df['reviewText'].apply(limpiar_texto)"
      ],
      "metadata": {
        "id": "lQ-pQ6X4tIdD"
      },
      "execution_count": 3,
      "outputs": []
    },
    {
      "cell_type": "code",
      "source": [
        "# Quitamos los nulos que hayan podido quedar tras la limpieza en el pipeline\n",
        "df = df.replace('', np.nan)\n",
        "df = df.dropna()\n",
        "print(df.shape)\n",
        "\n",
        "# Guardamos el dataframe para su posterior preprocesamiento\n",
        "df.to_csv('df_vehicles_prepro.csv', index=False)"
      ],
      "metadata": {
        "id": "hswna5h0insJ",
        "colab": {
          "base_uri": "https://localhost:8080/"
        },
        "outputId": "2732cc41-53de-4ac6-d1ab-820189bea606"
      },
      "execution_count": 4,
      "outputs": [
        {
          "output_type": "stream",
          "name": "stdout",
          "text": [
            "(4588, 2)\n"
          ]
        }
      ]
    }
  ]
}